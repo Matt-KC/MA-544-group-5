{
 "cells": [
  {
   "cell_type": "code",
   "execution_count": 3,
   "id": "797d4a6d-1d9f-4c93-96a1-47038edab7c7",
   "metadata": {},
   "outputs": [],
   "source": [
    "import pandas as pd\n",
    "import numpy as np\n",
    "from scipy import stats\n"
   ]
  },
  {
   "cell_type": "code",
   "execution_count": 4,
   "id": "5711e1b7-b6e1-484e-9ae3-4722249620a1",
   "metadata": {},
   "outputs": [],
   "source": [
    "project_data = pd.read_csv('data.csv')"
   ]
  },
  {
   "cell_type": "markdown",
   "id": "27eb6ba6-5f1d-4634-878d-2e4e3fd0f68f",
   "metadata": {},
   "source": [
    "#### #1"
   ]
  },
  {
   "cell_type": "code",
   "execution_count": 8,
   "id": "8d372857-517b-42bd-a76f-7edcf76730a0",
   "metadata": {},
   "outputs": [
    {
     "name": "stdout",
     "output_type": "stream",
     "text": [
      "The p_value is:  0.6274695292874639\n",
      "The test is reject H0\n"
     ]
    }
   ],
   "source": [
    "significance_level = 0.05\n",
    "gold_update = project_data['gold'].tolist()\n",
    "oil_update = project_data['oil'].tolist()\n",
    "\n",
    "t_test, p_value= stats.ttest_ind(gold_update, oil_update) \n",
    "print(\"The p_value is: \", p_value)\n",
    "\n",
    "if p_value<significance_level:\n",
    "    print(\"The test is failed to reject H0\")\n",
    "else:\n",
    "    print(\"The test is reject H0\")"
   ]
  },
  {
   "cell_type": "markdown",
   "id": "bef2bb01-8f3a-43f2-952b-63694794142c",
   "metadata": {},
   "source": [
    "### #2"
   ]
  },
  {
   "cell_type": "code",
   "execution_count": 14,
   "id": "64c9de04-9e49-4096-8037-bf99f1795d7b",
   "metadata": {
    "tags": []
   },
   "outputs": [
    {
     "name": "stdout",
     "output_type": "stream",
     "text": [
      "The p_value of gold is:  0.1791780857932627\n",
      "The test is failed to reject H0\n"
     ]
    },
    {
     "ename": "NameError",
     "evalue": "name 'diff_gold_oil' is not defined",
     "output_type": "error",
     "traceback": [
      "\u001b[0;31m---------------------------------------------------------------------------\u001b[0m",
      "\u001b[0;31mNameError\u001b[0m                                 Traceback (most recent call last)",
      "\u001b[0;32m<ipython-input-14-1725cd3bd135>\u001b[0m in \u001b[0;36m<module>\u001b[0;34m\u001b[0m\n\u001b[1;32m     17\u001b[0m     \u001b[0mprint\u001b[0m\u001b[0;34m(\u001b[0m\u001b[0;34m\"The test is reject H0\"\u001b[0m\u001b[0;34m)\u001b[0m\u001b[0;34m\u001b[0m\u001b[0;34m\u001b[0m\u001b[0m\n\u001b[1;32m     18\u001b[0m \u001b[0;34m\u001b[0m\u001b[0m\n\u001b[0;32m---> 19\u001b[0;31m \u001b[0mt_test\u001b[0m\u001b[0;34m,\u001b[0m \u001b[0mp_value\u001b[0m\u001b[0;34m=\u001b[0m \u001b[0mstats\u001b[0m\u001b[0;34m.\u001b[0m\u001b[0mttest_ind\u001b[0m\u001b[0;34m(\u001b[0m\u001b[0mdiff_gold_oil\u001b[0m\u001b[0;34m,\u001b[0m\u001b[0moil_new_update\u001b[0m\u001b[0;34m)\u001b[0m\u001b[0;34m\u001b[0m\u001b[0;34m\u001b[0m\u001b[0m\n\u001b[0m\u001b[1;32m     20\u001b[0m \u001b[0mprint\u001b[0m\u001b[0;34m(\u001b[0m\u001b[0;34m\"The p_value of oil is: \"\u001b[0m\u001b[0;34m,\u001b[0m \u001b[0mp_value\u001b[0m\u001b[0;34m)\u001b[0m\u001b[0;34m\u001b[0m\u001b[0;34m\u001b[0m\u001b[0m\n\u001b[1;32m     21\u001b[0m \u001b[0;34m\u001b[0m\u001b[0m\n",
      "\u001b[0;31mNameError\u001b[0m: name 'diff_gold_oil' is not defined"
     ]
    }
   ],
   "source": [
    "gold_new_update = project_data['gold'].tolist() \n",
    "oil_new_update = project_data['oil'].tolist()\n",
    "\n",
    "difference_gold_oil = (project_data['gold'] - project_data['oil']).tolist() \n",
    "#diff_gold_oil = difference_gold_oil.tolist()\n",
    "\n",
    "#print(difference_gold_oil)\n",
    "\n",
    "significance_level = 0.05\n",
    "\n",
    "t_test, p_value= stats.ttest_ind(difference_gold_oil, gold_new_update) \n",
    "print(\"The p_value of gold is: \", p_value)\n",
    "\n",
    "if p_value>significance_level:\n",
    "    print(\"The test is failed to reject H0\") \n",
    "else:\n",
    "    print(\"The test is reject H0\")\n",
    "\n",
    "t_test, p_value= stats.ttest_ind(diff_gold_oil,oil_new_update) \n",
    "print(\"The p_value of oil is: \", p_value)\n",
    "\n",
    "if p_value>significance_level:\n",
    "    print(\"The test is failed to reject H0\") \n",
    "else:\n",
    "    print(\"The test is reject H0\")"
   ]
  },
  {
   "cell_type": "markdown",
   "id": "1f7c1063-95da-4c7f-9ff5-3abeb38a1f53",
   "metadata": {},
   "source": [
    "### #3"
   ]
  },
  {
   "cell_type": "code",
   "execution_count": 15,
   "id": "73d7486a-5892-490b-b60d-0f9cfc2492e3",
   "metadata": {},
   "outputs": [
    {
     "ename": "NameError",
     "evalue": "name 'st' is not defined",
     "output_type": "error",
     "traceback": [
      "\u001b[0;31m---------------------------------------------------------------------------\u001b[0m",
      "\u001b[0;31mNameError\u001b[0m                                 Traceback (most recent call last)",
      "\u001b[0;32m<ipython-input-15-0f8c2f4b1734>\u001b[0m in \u001b[0;36m<module>\u001b[0;34m\u001b[0m\n\u001b[1;32m      5\u001b[0m \u001b[0;34m\u001b[0m\u001b[0m\n\u001b[1;32m      6\u001b[0m \u001b[0msample_100_gold\u001b[0m \u001b[0;34m=\u001b[0m \u001b[0mpd\u001b[0m\u001b[0;34m.\u001b[0m\u001b[0mSeries\u001b[0m\u001b[0;34m(\u001b[0m\u001b[0mgold_new_update\u001b[0m\u001b[0;34m.\u001b[0m\u001b[0msample\u001b[0m\u001b[0;34m(\u001b[0m\u001b[0mn\u001b[0m\u001b[0;34m=\u001b[0m\u001b[0;36m100\u001b[0m\u001b[0;34m,\u001b[0m \u001b[0mreplace\u001b[0m\u001b[0;34m=\u001b[0m\u001b[0;32mTrue\u001b[0m\u001b[0;34m)\u001b[0m\u001b[0;34m)\u001b[0m\u001b[0;34m\u001b[0m\u001b[0;34m\u001b[0m\u001b[0m\n\u001b[0;32m----> 7\u001b[0;31m \u001b[0mst\u001b[0m\u001b[0;34m.\u001b[0m\u001b[0mnorm\u001b[0m\u001b[0;34m.\u001b[0m\u001b[0minterval\u001b[0m\u001b[0;34m(\u001b[0m\u001b[0malpha\u001b[0m\u001b[0;34m=\u001b[0m\u001b[0;36m0.95\u001b[0m\u001b[0;34m,\u001b[0m \u001b[0mloc\u001b[0m\u001b[0;34m=\u001b[0m\u001b[0msample_100_gold\u001b[0m\u001b[0;34m.\u001b[0m\u001b[0mmean\u001b[0m\u001b[0;34m(\u001b[0m\u001b[0;34m)\u001b[0m\u001b[0;34m,\u001b[0m \u001b[0mscale\u001b[0m\u001b[0;34m=\u001b[0m\u001b[0msample_100_gold\u001b[0m\u001b[0;34m.\u001b[0m\u001b[0mstd\u001b[0m\u001b[0;34m(\u001b[0m\u001b[0;34m)\u001b[0m\u001b[0;34m)\u001b[0m\u001b[0;34m\u001b[0m\u001b[0;34m\u001b[0m\u001b[0m\n\u001b[0m\u001b[1;32m      8\u001b[0m \u001b[0;34m\u001b[0m\u001b[0m\n\u001b[1;32m      9\u001b[0m \u001b[0msample_100_oil\u001b[0m \u001b[0;34m=\u001b[0m \u001b[0mpd\u001b[0m\u001b[0;34m.\u001b[0m\u001b[0mSeries\u001b[0m\u001b[0;34m(\u001b[0m\u001b[0moil_new_update\u001b[0m\u001b[0;34m.\u001b[0m\u001b[0msample\u001b[0m\u001b[0;34m(\u001b[0m\u001b[0mn\u001b[0m\u001b[0;34m=\u001b[0m\u001b[0;36m100\u001b[0m\u001b[0;34m,\u001b[0m \u001b[0mreplace\u001b[0m\u001b[0;34m=\u001b[0m\u001b[0;32mTrue\u001b[0m\u001b[0;34m)\u001b[0m\u001b[0;34m)\u001b[0m\u001b[0;34m\u001b[0m\u001b[0;34m\u001b[0m\u001b[0m\n",
      "\u001b[0;31mNameError\u001b[0m: name 'st' is not defined"
     ]
    }
   ],
   "source": [
    "significance_level = 0.05\n",
    "\n",
    "gold_new_update = project_data['gold']\n",
    "oil_new_update = project_data['oil']\n",
    "\n",
    "sample_100_gold = pd.Series(gold_new_update.sample(n=100, replace=True)) \n",
    "st.norm.interval(alpha=0.95, loc=sample_100_gold.mean(), scale=sample_100_gold.std())\n",
    "\n",
    "sample_100_oil = pd.Series(oil_new_update.sample(n=100, replace=True)) \n",
    "st.norm.interval(alpha=0.95, loc=sample_100_oil.mean(), scale=sample_100_oil.std())\n",
    "\n",
    "print(\"The gold sample of the mean is:\",sample_100_gold.mean())\n",
    "print()\n",
    "\n",
    "print(\"The oil sample of the mean is:\",sample_100_oil.mean())\n",
    "print()\n",
    "\n",
    "f = np.var(project_data['gold']) / np.var(project_data['oil'])\n",
    "n_oil = 50\n",
    "n_gold = 50\n",
    "result = 1-scipy.stats.f.cdf(f, n_oil - 1, n_gold -1)\n",
    "\n",
    "print(\"The result is: \",result)\n",
    "\n",
    "if p_value>significance_level:\n",
    "    print(\"The test is failed to reject H0\")\n",
    "else:\n",
    "    print(\"The test is reject H0\")"
   ]
  },
  {
   "cell_type": "code",
   "execution_count": null,
   "id": "a7271058-7243-4f28-8364-9cf36bd638a1",
   "metadata": {},
   "outputs": [],
   "source": []
  }
 ],
 "metadata": {
  "kernelspec": {
   "display_name": "Python 3",
   "language": "python",
   "name": "python3"
  },
  "language_info": {
   "codemirror_mode": {
    "name": "ipython",
    "version": 3
   },
   "file_extension": ".py",
   "mimetype": "text/x-python",
   "name": "python",
   "nbconvert_exporter": "python",
   "pygments_lexer": "ipython3",
   "version": "3.8.8"
  }
 },
 "nbformat": 4,
 "nbformat_minor": 5
}
