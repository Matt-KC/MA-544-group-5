{
 "cells": [
  {
   "cell_type": "code",
   "execution_count": 5,
   "id": "7aa27643",
   "metadata": {},
   "outputs": [],
   "source": [
    "import pandas as pd\n",
    "import numpy as np\n",
    "import matplotlib.pyplot as plt\n",
    "import pandas as pd\n",
    "import seaborn as sb\n",
    "import os\n",
    "import warnings\n",
    "warnings.filterwarnings(\"ignore\")\n",
    "import random\n",
    "random.seed(1234)\n",
    "%matplotlib inline\n",
    "import scipy.stats as st"
   ]
  },
  {
   "cell_type": "code",
   "execution_count": 15,
   "id": "38b87e3e",
   "metadata": {},
   "outputs": [],
   "source": [
    "#movie_data = pd.read_csv(\"MA 541 Course Project Data.csv\")\n",
    "data = pd.read_excel('MA 541 Course Project Data.xlsx')"
   ]
  },
  {
   "cell_type": "code",
   "execution_count": 16,
   "id": "d543c83a",
   "metadata": {},
   "outputs": [],
   "source": [
    "etf = data[['Close_ETF']] \n",
    "\n",
    "# mean\n",
    "mu_x = np.mean(etf)[0] \n",
    "\n",
    "# standard deviation\n",
    "sigma_x = np.std(etf)[0] \n",
    "\n",
    "g = [] \n",
    "for i in np.arange(1,11): \n",
    "  num = [i]*100 \n",
    "  g.extend(num) \n",
    "\n",
    "g = np.array(g) \n",
    "\n",
    "etf['group'] = g.tolist() # .loc?\n",
    "\n",
    "means_100_10 = [] \n",
    "\n",
    "# create 10 of 100\n",
    "for _ in range(10): \n",
    "  means_100_10.append(etf.sample(100, replace = True).Close_ETF.mean()) \n",
    "    \n",
    "    \n",
    "means_20_50 = [] \n",
    "\n",
    "# create 50 of 20\n",
    "for _ in range(50): \n",
    "  means_20_50.append(etf.sample(20, replace = True).Close_ETF.mean()) "
   ]
  },
  {
   "cell_type": "code",
   "execution_count": 26,
   "id": "5fad5c0b",
   "metadata": {},
   "outputs": [],
   "source": [
    "stds_20_50 = []\n",
    "for _ in range(50):\n",
    "    stds_20_50.append(etf.sample(20, replace = True).Close_ETF.std())"
   ]
  },
  {
   "cell_type": "code",
   "execution_count": 19,
   "id": "85133f32",
   "metadata": {},
   "outputs": [
    {
     "name": "stdout",
     "output_type": "stream",
     "text": [
      "95% CI for μ: (119.89115333619488,124.81604684380504)\n"
     ]
    }
   ],
   "source": [
    "#  95% CI using one of the 10 SRS with size 100 for mu \n",
    "margin_error_100 = 1.96*sigma_x/(100**0.5) \n",
    "xbar_100 = means_100_10[0] \n",
    "lower_100, upper_100 = (xbar_100 - margin_error_100, xbar_100 + margin_error_100) \n",
    "print(\"95% CI for \\u03BC: ({},{})\".format(lower_100, upper_100)) \n",
    "\n",
    "# #  95% CI using one of the 50 SRS with size 20 for mu\n",
    "# margin_error_20 = 1.96*sigma_x/(20**0.5) \n",
    "# xbar_20 = means_20_50[0] \n",
    "# lower_20, upper_20 = (xbar_20 - margin_error_20, xbar_20 + margin_error_20) \n",
    "# print(\"95% CI for \\u03BC: ({},{})\".format(lower_20, upper_20)\n",
    "      \n",
    "#print(\"Population Mean \\u03BC = {}\".format(mu_x))     "
   ]
  },
  {
   "cell_type": "markdown",
   "id": "fa98efad",
   "metadata": {},
   "source": [
    "## All code above this must be replaced "
   ]
  },
  {
   "cell_type": "markdown",
   "id": "dac9ae36",
   "metadata": {},
   "source": [
    "## Part 6 Form a hypothesis and test it with your data\n",
    "\n",
    "1) Use the same sample you picked up in Step 1) of Part 5 to test H_0:  μ=100 vs. H_a:  μ≠100 at the significance level 0.05. What’s your conclusion? \n",
    "\n",
    "2) Use the same sample you picked up in Step 2) of Part 5 to test H_0:  μ=100 vs. H_a:  μ≠100 at the significance level 0.05. What’s your conclusion?\n",
    "\n",
    "3) Use the same sample you picked up in Step 2) of Part 5 to test H_0:  σ=15   vs. H_a:  σ≠15 at the significance level 0.05. What’s your conclusion?\n",
    "\n",
    "4) Use the same sample you picked up in Step 2) of Part 5 to test H_0:  σ=15   vs. H_a:  σ<15 at the significance level 0.05. What’s your conclusion?"
   ]
  },
  {
   "cell_type": "code",
   "execution_count": 30,
   "id": "d2c02110",
   "metadata": {},
   "outputs": [
    {
     "name": "stdout",
     "output_type": "stream",
     "text": [
      "121.02470002999995\n",
      "test statistic:\n",
      "16.734742383819196\n",
      "pvalue:\n",
      "0.0\n"
     ]
    }
   ],
   "source": [
    "# Use the same sample you picked up in Step 1) of Part 5 to test H_0: μ=100 vs. H_a: μ≠100 at the significance level 0.05. \n",
    "# What’s your conclusion?\n",
    "\n",
    "print(means_100_10[9])\n",
    "test_statistic = (100.0**0.5)*(means_100_10[9] - 100)/(sigma_x)\n",
    "pvalue = (1 - st.norm.cdf(test_statistic))*2\n",
    "print(\"test statistic:\\n{}\".format(test_statistic))\n",
    "print(\"pvalue:\\n{}\".format(pvalue))"
   ]
  },
  {
   "cell_type": "code",
   "execution_count": 31,
   "id": "5d630858",
   "metadata": {},
   "outputs": [
    {
     "name": "stdout",
     "output_type": "stream",
     "text": [
      "121.76849904999997\n",
      "test statistic:\n",
      "7.748768853149655\n",
      "pvalue:\n",
      "9.325873406851315e-15\n"
     ]
    }
   ],
   "source": [
    "##Use the same sample you picked up in Step 2) of Part 5 to test H_0:  μ=100 vs. H_a:  μ≠100 at the significance level 0.05. \n",
    "#What’s your conclusion?\n",
    "\n",
    "print(means_20_50[9])\n",
    "test_statistic = (20.0**0.5)*(means_20_50[9] - 100)/(sigma_x)\n",
    "pvalue = (1 - st.norm.cdf(test_statistic))*2\n",
    "print(\"test statistic:\\n{}\".format(test_statistic))\n",
    "print(\"pvalue:\\n{}\".format(pvalue))\n",
    "\n"
   ]
  },
  {
   "cell_type": "code",
   "execution_count": 32,
   "id": "09d71b24",
   "metadata": {},
   "outputs": [
    {
     "name": "stdout",
     "output_type": "stream",
     "text": [
      "13.43293055217212\n",
      "test statistic:\n",
      "15.237461516311578\n",
      "8.906516481987971 32.85232686172969\n"
     ]
    }
   ],
   "source": [
    "# Use the same sample you picked up in Step 2) of Part 5 to test H_0:  σ=15   vs. H_a:  σ≠15 at the significance level 0.05. \n",
    "#What’s your conclusion?\n",
    "print(stds_20_50[9])\n",
    "test_statistic = (20 - 1)*(stds_20_50[9]/15)**2\n",
    "print(\"test statistic:\\n{}\".format(test_statistic))\n",
    "print(st.chi2.ppf(0.025, 20-1), st.chi2.ppf(0.975, 20-1))"
   ]
  },
  {
   "cell_type": "code",
   "execution_count": 33,
   "id": "da05dad2",
   "metadata": {},
   "outputs": [
    {
     "name": "stdout",
     "output_type": "stream",
     "text": [
      "13.43293055217212\n",
      "test statistic:\n",
      "15.237461516311578\n",
      "pvalue:\n",
      "0.2926099318378796\n"
     ]
    }
   ],
   "source": [
    "#Use the same sample you picked up in Step 2) of Part 5 to test H_0:  σ=15   vs. H_a:  σ<15 at the significance level 0.05.\n",
    "#What’s your conclusion?\n",
    "# Ha: sigma < 15\n",
    "print(stds_20_50[9])\n",
    "test_statistic = (20 - 1)*(stds_20_50[9]/15)**2\n",
    "pvalue = (st.chi2.cdf(test_statistic, 20 - 1))\n",
    "print(\"test statistic:\\n{}\".format(test_statistic))\n",
    "print(\"pvalue:\\n{}\".format(pvalue))"
   ]
  },
  {
   "cell_type": "code",
   "execution_count": 29,
   "id": "cc413f16",
   "metadata": {},
   "outputs": [
    {
     "data": {
      "text/plain": [
       "10.117013063859044"
      ]
     },
     "execution_count": 29,
     "metadata": {},
     "output_type": "execute_result"
    }
   ],
   "source": [
    "st.chi2.ppf(0.05, 20-1)"
   ]
  },
  {
   "cell_type": "code",
   "execution_count": null,
   "id": "c3c64b83",
   "metadata": {},
   "outputs": [],
   "source": []
  }
 ],
 "metadata": {
  "kernelspec": {
   "display_name": "Python 3 (ipykernel)",
   "language": "python",
   "name": "python3"
  },
  "language_info": {
   "codemirror_mode": {
    "name": "ipython",
    "version": 3
   },
   "file_extension": ".py",
   "mimetype": "text/x-python",
   "name": "python",
   "nbconvert_exporter": "python",
   "pygments_lexer": "ipython3",
   "version": "3.9.7"
  }
 },
 "nbformat": 4,
 "nbformat_minor": 5
}
