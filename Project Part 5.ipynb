{
 "cells": [
  {
   "cell_type": "markdown",
   "id": "24cd2168",
   "metadata": {},
   "source": [
    "# Part 5: Construct a confidence interval with your data"
   ]
  },
  {
   "cell_type": "code",
   "execution_count": 31,
   "id": "da8ac304",
   "metadata": {},
   "outputs": [],
   "source": [
    "import pandas as pd \n",
    "import numpy as np \n",
    "import matplotlib.pyplot as plt \n",
    " \n",
    "import pandas as pd "
   ]
  },
  {
   "cell_type": "code",
   "execution_count": 32,
   "id": "af8491d8",
   "metadata": {},
   "outputs": [],
   "source": [
    "data = pd.read_excel('MA 541 Course Project Data.xlsx')"
   ]
  },
  {
   "cell_type": "markdown",
   "id": "87b8eebb",
   "metadata": {},
   "source": [
    "# Need part 4 for variables and code. This needs to be adjusted"
   ]
  },
  {
   "cell_type": "code",
   "execution_count": 42,
   "id": "43ce3497",
   "metadata": {},
   "outputs": [
    {
     "name": "stderr",
     "output_type": "stream",
     "text": [
      "<ipython-input-42-24c8b93900f0>:15: SettingWithCopyWarning: \n",
      "A value is trying to be set on a copy of a slice from a DataFrame.\n",
      "Try using .loc[row_indexer,col_indexer] = value instead\n",
      "\n",
      "See the caveats in the documentation: https://pandas.pydata.org/pandas-docs/stable/user_guide/indexing.html#returning-a-view-versus-a-copy\n",
      "  etf['group'] = g.tolist()\n"
     ]
    }
   ],
   "source": [
    "# REPLACE WITH CODE FROM PART 4\n",
    "\n",
    "etf = data[['Close_ETF']] \n",
    "\n",
    "# mean\n",
    "mu_x = np.mean(etf)[0] \n",
    "\n",
    "# standard deviation\n",
    "sigma_x = np.std(etf)[0] \n",
    "\n",
    "g = [] \n",
    "for i in np.arange(1,11): \n",
    "  num = [i]*100 \n",
    "  g.extend(num) \n",
    "\n",
    "g = np.array(g) \n",
    "\n",
    "etf['group'] = g.tolist() # .loc?\n",
    "\n",
    "means_100_10 = [] \n",
    "\n",
    "# create 10 of 100\n",
    "for _ in range(10): \n",
    "  means_100_10.append(etf.sample(100, replace = True).Close_ETF.mean()) \n",
    "    \n",
    "    \n",
    "means_20_50 = [] \n",
    "\n",
    "# create 50 of 20\n",
    "for _ in range(50): \n",
    "  means_20_50.append(etf.sample(20, replace = True).Close_ETF.mean()) "
   ]
  },
  {
   "cell_type": "markdown",
   "id": "17858f00",
   "metadata": {},
   "source": [
    "1. Pick up one of the 10 simple random samples you generated in Step 10) of Part 4, construct an appropriate 95% confidence\n",
    "interval of the mean."
   ]
  },
  {
   "cell_type": "code",
   "execution_count": 43,
   "id": "cf880061",
   "metadata": {},
   "outputs": [
    {
     "name": "stdout",
     "output_type": "stream",
     "text": [
      "95% CI for μ: (120.51145316619493,125.43634667380509)\n"
     ]
    }
   ],
   "source": [
    "#  95% CI using one of the 10 SRS with size 100 for mu \n",
    "margin_error_100 = 1.96*sigma_x/(100**0.5) \n",
    "xbar_100 = means_100_10[0] \n",
    "lower_100, upper_100 = (xbar_100 - margin_error_100, xbar_100 + margin_error_100) \n",
    "print(\"95% CI for \\u03BC: ({},{})\".format(lower_100, upper_100)) "
   ]
  },
  {
   "cell_type": "markdown",
   "id": "f9cd3f8b",
   "metadata": {},
   "source": [
    "2. Pick up one of the 50 simple random samples you generated in Step 8) of Part 4, construct an appropriate 95% confidence\n",
    "interval of the mean."
   ]
  },
  {
   "cell_type": "code",
   "execution_count": 44,
   "id": "5d57244a",
   "metadata": {},
   "outputs": [
    {
     "name": "stdout",
     "output_type": "stream",
     "text": [
      "95% CI for μ: (113.28130126751816,124.29369793248188)\n"
     ]
    }
   ],
   "source": [
    "#  95% CI using one of the 50 SRS with size 20 for mu\n",
    "margin_error_20 = 1.96*sigma_x/(20**0.5) \n",
    "xbar_20 = means_20_50[0] \n",
    "lower_20, upper_20 = (xbar_20 - margin_error_20, xbar_20 + margin_error_20) \n",
    "print(\"95% CI for \\u03BC: ({},{})\".format(lower_20, upper_20)) "
   ]
  },
  {
   "cell_type": "markdown",
   "id": "4dcec02e",
   "metadata": {},
   "source": [
    "3. In Part 1, you have calculated the mean   of the population (the entire ETF column). Do the two intervals from 1) and 2)\n",
    "above include (the true value of) the mean  ? Which one is more accurate? Why?"
   ]
  },
  {
   "cell_type": "code",
   "execution_count": 45,
   "id": "d750095f",
   "metadata": {},
   "outputs": [
    {
     "name": "stdout",
     "output_type": "stream",
     "text": [
      "Population Mean μ = 121.152960012\n"
     ]
    }
   ],
   "source": [
    "print(\"Population Mean \\u03BC = {}\".format(mu_x)) "
   ]
  },
  {
   "cell_type": "markdown",
   "id": "bde71c89",
   "metadata": {},
   "source": [
    "The population mean falls within the 95% confidence intervals for both samples. The first confidence interval is more accurate, which is likely due to its larger sample size. The larger sample size resulted in a narrower confidence interval."
   ]
  }
 ],
 "metadata": {
  "kernelspec": {
   "display_name": "Python 3 (ipykernel)",
   "language": "python",
   "name": "python3"
  },
  "language_info": {
   "codemirror_mode": {
    "name": "ipython",
    "version": 3
   },
   "file_extension": ".py",
   "mimetype": "text/x-python",
   "name": "python",
   "nbconvert_exporter": "python",
   "pygments_lexer": "ipython3",
   "version": "3.9.7"
  }
 },
 "nbformat": 4,
 "nbformat_minor": 5
}
