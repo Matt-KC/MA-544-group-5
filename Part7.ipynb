{
 "cells": [
  {
   "cell_type": "code",
   "execution_count": 1,
   "id": "41dd3526",
   "metadata": {},
   "outputs": [
    {
     "name": "stdout",
     "output_type": "stream",
     "text": [
      "         Close_ETF          oil         gold          JPM\n",
      "count  1000.000000  1000.000000  1000.000000  1000.000000\n",
      "mean    121.152960     0.001030     0.000663     0.000530\n",
      "std      12.569790     0.021093     0.011289     0.011017\n",
      "min      96.419998    -0.116533    -0.065805    -0.048217\n",
      "25%     112.580002    -0.012461    -0.004816    -0.005538\n",
      "50%     120.150002     0.001243     0.001030     0.000386\n",
      "75%     128.687497     0.014278     0.007482     0.006966\n",
      "max     152.619995     0.087726     0.042199     0.057480\n"
     ]
    }
   ],
   "source": [
    "import pandas as pd\n",
    "import numpy as np\n",
    "\n",
    "project_data = pd.read_csv('data.csv')\n",
    "descriptive_stats = project_data.describe()\n",
    "print(descriptive_stats)"
   ]
  },
  {
   "cell_type": "markdown",
   "id": "9f6575b4",
   "metadata": {},
   "source": [
    "#### Bullet pt 1"
   ]
  },
  {
   "cell_type": "code",
   "execution_count": 6,
   "id": "fabce058",
   "metadata": {},
   "outputs": [],
   "source": [
    "import scipy.stats as stats"
   ]
  },
  {
   "cell_type": "code",
   "execution_count": 7,
   "id": "dabb397b",
   "metadata": {},
   "outputs": [
    {
     "data": {
      "text/plain": [
       "Ttest_indResult(statistic=0.48536660894865913, pvalue=0.6274695292874639)"
      ]
     },
     "execution_count": 7,
     "metadata": {},
     "output_type": "execute_result"
    }
   ],
   "source": [
    "stats.ttest_ind(project_data['oil'], project_data['gold'], axis=0, equal_var=True, nan_policy='propagate', permutations=None, random_state=None, alternative='two-sided', trim=0)"
   ]
  },
  {
   "cell_type": "markdown",
   "id": "1f8db6b7",
   "metadata": {},
   "source": [
    "##### p-value > .05 therefore we cannot reject (must accept) null hypothesis that averages are equivalent\n",
    "\n",
    "#### Bullet pt 2"
   ]
  },
  {
   "cell_type": "code",
   "execution_count": 8,
   "id": "a8e8017f",
   "metadata": {},
   "outputs": [],
   "source": [
    "project_data['diff'] = project_data['oil'] - project_data['gold']"
   ]
  },
  {
   "cell_type": "code",
   "execution_count": 10,
   "id": "c934f60b",
   "metadata": {},
   "outputs": [
    {
     "data": {
      "text/plain": [
       "Ttest_1sampResult(statistic=0.5413309223847728, pvalue=0.5884002046805893)"
      ]
     },
     "execution_count": 10,
     "metadata": {},
     "output_type": "execute_result"
    }
   ],
   "source": [
    "stats.ttest_1samp(project_data['diff'], popmean=0)"
   ]
  },
  {
   "cell_type": "markdown",
   "id": "ac16ba85",
   "metadata": {},
   "source": [
    "##### p-value > .05 therefore we cannot reject (must accept) null hypothesis that mean of the difference is equal to 0"
   ]
  },
  {
   "cell_type": "code",
   "execution_count": null,
   "id": "cfdcdd04",
   "metadata": {},
   "outputs": [],
   "source": []
  }
 ],
 "metadata": {
  "kernelspec": {
   "display_name": "Python 3 (ipykernel)",
   "language": "python",
   "name": "python3"
  },
  "language_info": {
   "codemirror_mode": {
    "name": "ipython",
    "version": 3
   },
   "file_extension": ".py",
   "mimetype": "text/x-python",
   "name": "python",
   "nbconvert_exporter": "python",
   "pygments_lexer": "ipython3",
   "version": "3.9.7"
  }
 },
 "nbformat": 4,
 "nbformat_minor": 5
}
