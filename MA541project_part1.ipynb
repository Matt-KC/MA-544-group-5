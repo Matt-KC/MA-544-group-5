{
 "cells": [
  {
   "cell_type": "code",
   "execution_count": 1,
   "id": "efe5cd5c-77e8-42b3-b931-9cfa431aac73",
   "metadata": {},
   "outputs": [],
   "source": [
    "import pandas as pd\n",
    "import numpy as np"
   ]
  },
  {
   "cell_type": "code",
   "execution_count": 2,
   "id": "92c214f2-b89f-4c9b-a8f4-1e31f81f8b23",
   "metadata": {},
   "outputs": [
    {
     "name": "stdout",
     "output_type": "stream",
     "text": [
      "         Close_ETF          oil         gold          JPM\n",
      "count  1000.000000  1000.000000  1000.000000  1000.000000\n",
      "mean    121.152960     0.001030     0.000663     0.000530\n",
      "std      12.569790     0.021093     0.011289     0.011017\n",
      "min      96.419998    -0.116533    -0.065805    -0.048217\n",
      "25%     112.580002    -0.012461    -0.004816    -0.005538\n",
      "50%     120.150002     0.001243     0.001030     0.000386\n",
      "75%     128.687497     0.014278     0.007482     0.006966\n",
      "max     152.619995     0.087726     0.042199     0.057480\n"
     ]
    }
   ],
   "source": [
    "project_data = pd.read_csv('data.csv')\n",
    "descriptive_stats = project_data.describe()\n",
    "print(descriptive_stats)"
   ]
  },
  {
   "cell_type": "code",
   "execution_count": 3,
   "id": "f7ed3fc7-79bf-4fb4-b04a-c5c041cc0167",
   "metadata": {},
   "outputs": [
    {
     "name": "stdout",
     "output_type": "stream",
     "text": [
      "           Close_ETF       oil      gold       JPM\n",
      "Close_ETF   1.000000 -0.009045  0.022996  0.036807\n",
      "oil        -0.009045  1.000000  0.235650 -0.120849\n",
      "gold        0.022996  0.235650  1.000000  0.100170\n",
      "JPM         0.036807 -0.120849  0.100170  1.000000\n"
     ]
    }
   ],
   "source": [
    "correlation_coefficients = project_data.corr(method='pearson')\n",
    "print(correlation_coefficients)"
   ]
  }
 ],
 "metadata": {
  "kernelspec": {
   "display_name": "Python 3 (ipykernel)",
   "language": "python",
   "name": "python3"
  },
  "language_info": {
   "codemirror_mode": {
    "name": "ipython",
    "version": 3
   },
   "file_extension": ".py",
   "mimetype": "text/x-python",
   "name": "python",
   "nbconvert_exporter": "python",
   "pygments_lexer": "ipython3",
   "version": "3.9.7"
  }
 },
 "nbformat": 4,
 "nbformat_minor": 5
}
