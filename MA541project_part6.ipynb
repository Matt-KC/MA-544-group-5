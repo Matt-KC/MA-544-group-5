{
 "cells": [
  {
   "cell_type": "code",
   "execution_count": 22,
   "id": "797d4a6d-1d9f-4c93-96a1-47038edab7c7",
   "metadata": {},
   "outputs": [],
   "source": [
    "import pandas as pd\n",
    "import numpy as np\n",
    "import scipy\n",
    "from scipy import stats\n",
    "import scipy.stats as st\n"
   ]
  },
  {
   "cell_type": "code",
   "execution_count": 4,
   "id": "5711e1b7-b6e1-484e-9ae3-4722249620a1",
   "metadata": {},
   "outputs": [],
   "source": [
    "project_data = pd.read_csv('data.csv')"
   ]
  },
  {
   "cell_type": "markdown",
   "id": "27eb6ba6-5f1d-4634-878d-2e4e3fd0f68f",
   "metadata": {},
   "source": [
    "#### #1"
   ]
  },
  {
   "cell_type": "code",
   "execution_count": 8,
   "id": "8d372857-517b-42bd-a76f-7edcf76730a0",
   "metadata": {},
   "outputs": [
    {
     "name": "stdout",
     "output_type": "stream",
     "text": [
      "The p_value is:  0.6274695292874639\n",
      "The test is reject H0\n"
     ]
    }
   ],
   "source": [
    "significance_level = 0.05\n",
    "gold_update = project_data['gold'].tolist()\n",
    "oil_update = project_data['oil'].tolist()\n",
    "\n",
    "t_test, p_value= stats.ttest_ind(gold_update, oil_update) \n",
    "print(\"The p_value is: \", p_value)\n",
    "\n",
    "if p_value<significance_level:\n",
    "    print(\"The test is failed to reject H0\")\n",
    "else:\n",
    "    print(\"The test is reject H0\")"
   ]
  },
  {
   "cell_type": "markdown",
   "id": "bef2bb01-8f3a-43f2-952b-63694794142c",
   "metadata": {},
   "source": [
    "### #2"
   ]
  },
  {
   "cell_type": "code",
   "execution_count": 20,
   "id": "64c9de04-9e49-4096-8037-bf99f1795d7b",
   "metadata": {
    "tags": []
   },
   "outputs": [
    {
     "name": "stdout",
     "output_type": "stream",
     "text": [
      "The sample of the mean is: -0.0005888384399999993\n",
      "\n",
      "The result is: 0.0024709104843025588\n",
      "The value is: -40470.91168833908\n",
      "The p value is: 0.0\n",
      "The p_value is:  0.9226675659798556\n",
      "The test is reject H0\n"
     ]
    }
   ],
   "source": [
    "difference_gold_oil = (project_data['gold'] - project_data['oil'])\n",
    "sample_100_gold_oil = pd.Series(difference_gold_oil.sample(n=100, replace=True)) \n",
    "st.norm.interval(alpha=0.95, loc=sample_100_gold_oil.mean(),scale=sample_100_gold_oil.std())\n",
    "print(\"The sample of the mean is:\",sample_100_gold_oil.mean())\n",
    "print()\n",
    "\n",
    "mu_diff = 0\n",
    "std_diff= sample_100_gold_oil.std()\n",
    "n_diff = 100\n",
    "mu_0_diff = 100\n",
    "S_x_diff = std_diff/np.sqrt(n_diff)\n",
    "print(\"The result is:\",S_x_diff)\n",
    "\n",
    "T_test_diff = (mu_diff - mu_0_diff)/S_x_diff\n",
    "print(\"The value is:\",T_test_diff)\n",
    "\n",
    "pval_diff = stats.t.sf(np.abs(T_test_diff), n_diff-1)*2\n",
    "print(\"The p value is:\",pval_diff)\n",
    "\n",
    "significance_level = 0.05\n",
    "t_test, p_value= stats.ttest_ind(difference_gold_oil,sample_100_gold_oil) \n",
    "print(\"The p_value is: \", p_value)\n",
    "if pval_diff>significance_level: print(\"The test is failed to reject H0\") \n",
    "else: print(\"The test is reject H0\")"
   ]
  },
  {
   "cell_type": "markdown",
   "id": "1f7c1063-95da-4c7f-9ff5-3abeb38a1f53",
   "metadata": {},
   "source": [
    "### #3"
   ]
  },
  {
   "cell_type": "code",
   "execution_count": 23,
   "id": "73d7486a-5892-490b-b60d-0f9cfc2492e3",
   "metadata": {},
   "outputs": [
    {
     "name": "stdout",
     "output_type": "stream",
     "text": [
      "The gold sample of the mean is: 0.00016743571999999998\n",
      "\n",
      "The oil sample of the mean is: 0.003912326130000001\n",
      "\n",
      "The result is:  0.999987979230873\n",
      "The test is failed to reject H0\n"
     ]
    }
   ],
   "source": [
    "significance_level = 0.05\n",
    "\n",
    "gold_new_update = project_data['gold']\n",
    "oil_new_update = project_data['oil']\n",
    "\n",
    "sample_100_gold = pd.Series(gold_new_update.sample(n=100, replace=True)) \n",
    "st.norm.interval(alpha=0.95, loc=sample_100_gold.mean(), scale=sample_100_gold.std())\n",
    "\n",
    "sample_100_oil = pd.Series(oil_new_update.sample(n=100, replace=True)) \n",
    "st.norm.interval(alpha=0.95, loc=sample_100_oil.mean(), scale=sample_100_oil.std())\n",
    "\n",
    "print(\"The gold sample of the mean is:\",sample_100_gold.mean())\n",
    "print()\n",
    "\n",
    "print(\"The oil sample of the mean is:\",sample_100_oil.mean())\n",
    "print()\n",
    "\n",
    "f = np.var(project_data['gold']) / np.var(project_data['oil'])\n",
    "n_oil = 50\n",
    "n_gold = 50\n",
    "result = 1-scipy.stats.f.cdf(f, n_oil - 1, n_gold -1)\n",
    "\n",
    "print(\"The result is: \",result)\n",
    "\n",
    "if p_value>significance_level:\n",
    "    print(\"The test is failed to reject H0\")\n",
    "else:\n",
    "    print(\"The test is reject H0\")"
   ]
  },
  {
   "cell_type": "code",
   "execution_count": null,
   "id": "a7271058-7243-4f28-8364-9cf36bd638a1",
   "metadata": {},
   "outputs": [],
   "source": []
  }
 ],
 "metadata": {
  "kernelspec": {
   "display_name": "Python 3 (ipykernel)",
   "language": "python",
   "name": "python3"
  },
  "language_info": {
   "codemirror_mode": {
    "name": "ipython",
    "version": 3
   },
   "file_extension": ".py",
   "mimetype": "text/x-python",
   "name": "python",
   "nbconvert_exporter": "python",
   "pygments_lexer": "ipython3",
   "version": "3.9.7"
  }
 },
 "nbformat": 4,
 "nbformat_minor": 5
}
